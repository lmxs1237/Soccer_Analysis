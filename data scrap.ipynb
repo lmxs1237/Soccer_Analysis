{
 "cells": [
  {
   "cell_type": "code",
   "execution_count": 59,
   "metadata": {},
   "outputs": [],
   "source": [
    "import requests\n",
    "from bs4 import BeautifulSoup\n",
    "\n",
    "import pandas as pd"
   ]
  },
  {
   "cell_type": "code",
   "execution_count": 73,
   "metadata": {},
   "outputs": [],
   "source": [
    "PlayersList = []\n",
    "ValuesList = []\n",
    "\n",
    "headers = {'User-Agent': \n",
    "           'Mozilla/5.0 (X11; Linux x86_64) AppleWebKit/537.36 (KHTML, like Gecko) Chrome/47.0.2526.106 Safari/537.36'}\n",
    "\n",
    "for k in range(2008,2016):\n",
    "    for i in range(0,10):\n",
    "        page = \"https://www.transfermarkt.co.uk/transfers/transferrekorde/statistik/top/saison_id/\" + str(k) + \"/plus/1/galerie/0/page/\" + str(i+1)\n",
    "        pageTree = requests.get(page, headers=headers)\n",
    "        pageSoup = BeautifulSoup(pageTree.content, 'html.parser')\n",
    "\n",
    "        Players = pageSoup.find_all(\"a\", {\"class\": \"spielprofil_tooltip\"})\n",
    "        Values = pageSoup.find_all(\"td\", {\"class\": \"rechts hauptlink\"})\n",
    "\n",
    "        for j in range(0,25):\n",
    "            PlayersList.append(Players[j].text)\n",
    "            ValuesList.append(Values[j].text)\n",
    "        \n",
    "df = pd.DataFrame({\"Players\":PlayersList,\"Values\":ValuesList})"
   ]
  },
  {
   "cell_type": "code",
   "execution_count": 87,
   "metadata": {},
   "outputs": [
    {
     "data": {
      "text/html": [
       "<div>\n",
       "<style scoped>\n",
       "    .dataframe tbody tr th:only-of-type {\n",
       "        vertical-align: middle;\n",
       "    }\n",
       "\n",
       "    .dataframe tbody tr th {\n",
       "        vertical-align: top;\n",
       "    }\n",
       "\n",
       "    .dataframe thead th {\n",
       "        text-align: right;\n",
       "    }\n",
       "</style>\n",
       "<table border=\"1\" class=\"dataframe\">\n",
       "  <thead>\n",
       "    <tr style=\"text-align: right;\">\n",
       "      <th></th>\n",
       "      <th>Players</th>\n",
       "      <th>Values</th>\n",
       "    </tr>\n",
       "  </thead>\n",
       "  <tbody>\n",
       "    <tr>\n",
       "      <th>500</th>\n",
       "      <td>Fernando Torres</td>\n",
       "      <td>£52.65m</td>\n",
       "    </tr>\n",
       "  </tbody>\n",
       "</table>\n",
       "</div>"
      ],
      "text/plain": [
       "             Players   Values\n",
       "500  Fernando Torres  £52.65m"
      ]
     },
     "execution_count": 87,
     "metadata": {},
     "output_type": "execute_result"
    }
   ],
   "source": [
    "df.iloc[[500]]"
   ]
  },
  {
   "cell_type": "code",
   "execution_count": 90,
   "metadata": {},
   "outputs": [],
   "source": [
    "seasons = ['08/09']  * 250 + ['09/10']  * 250 + ['10/11']  * 250 + ['11/12']  * 250 +\\\n",
    "        ['12/13']  * 250 + ['13/14']  * 250 + ['14/15']  * 250 + ['15/16']  * 250\n",
    "\n",
    "\n",
    "start = [2008]  * 250 + [2009]  * 250 + [2010]  * 250 + [2011]  * 250 +\\\n",
    "        [2012]  * 250 + [2013]  * 250 + [2014]  * 250 + [2015]  * 250\n",
    "\n",
    "end = [2009]  * 250 + [2010]  * 250 + [2011]  * 250 +\\\n",
    "        [2012]  * 250 + [2013]  * 250 + [2014]  * 250 + [2015]  * 250 + [2016] * 250"
   ]
  },
  {
   "cell_type": "code",
   "execution_count": 91,
   "metadata": {},
   "outputs": [],
   "source": [
    "df['Seasons'] = seasons\n",
    "df['Start'] = start\n",
    "df['End'] = end"
   ]
  },
  {
   "cell_type": "code",
   "execution_count": 92,
   "metadata": {},
   "outputs": [
    {
     "data": {
      "text/html": [
       "<div>\n",
       "<style scoped>\n",
       "    .dataframe tbody tr th:only-of-type {\n",
       "        vertical-align: middle;\n",
       "    }\n",
       "\n",
       "    .dataframe tbody tr th {\n",
       "        vertical-align: top;\n",
       "    }\n",
       "\n",
       "    .dataframe thead th {\n",
       "        text-align: right;\n",
       "    }\n",
       "</style>\n",
       "<table border=\"1\" class=\"dataframe\">\n",
       "  <thead>\n",
       "    <tr style=\"text-align: right;\">\n",
       "      <th></th>\n",
       "      <th>Players</th>\n",
       "      <th>Values</th>\n",
       "      <th>Seasons</th>\n",
       "      <th>Start</th>\n",
       "      <th>End</th>\n",
       "    </tr>\n",
       "  </thead>\n",
       "  <tbody>\n",
       "    <tr>\n",
       "      <th>0</th>\n",
       "      <td>Robinho</td>\n",
       "      <td>£38.70m</td>\n",
       "      <td>08/09</td>\n",
       "      <td>2008</td>\n",
       "      <td>2009</td>\n",
       "    </tr>\n",
       "    <tr>\n",
       "      <th>1</th>\n",
       "      <td>Dimitar Berbatov</td>\n",
       "      <td>£34.20m</td>\n",
       "      <td>08/09</td>\n",
       "      <td>2008</td>\n",
       "      <td>2009</td>\n",
       "    </tr>\n",
       "    <tr>\n",
       "      <th>2</th>\n",
       "      <td>Dani Alves</td>\n",
       "      <td>£31.95m</td>\n",
       "      <td>08/09</td>\n",
       "      <td>2008</td>\n",
       "      <td>2009</td>\n",
       "    </tr>\n",
       "    <tr>\n",
       "      <th>3</th>\n",
       "      <td>Danny</td>\n",
       "      <td>£27.00m</td>\n",
       "      <td>08/09</td>\n",
       "      <td>2008</td>\n",
       "      <td>2009</td>\n",
       "    </tr>\n",
       "    <tr>\n",
       "      <th>4</th>\n",
       "      <td>Klaas-Jan Huntelaar</td>\n",
       "      <td>£24.30m</td>\n",
       "      <td>08/09</td>\n",
       "      <td>2008</td>\n",
       "      <td>2009</td>\n",
       "    </tr>\n",
       "  </tbody>\n",
       "</table>\n",
       "</div>"
      ],
      "text/plain": [
       "               Players   Values Seasons  Start   End\n",
       "0              Robinho  £38.70m   08/09   2008  2009\n",
       "1     Dimitar Berbatov  £34.20m   08/09   2008  2009\n",
       "2           Dani Alves  £31.95m   08/09   2008  2009\n",
       "3                Danny  £27.00m   08/09   2008  2009\n",
       "4  Klaas-Jan Huntelaar  £24.30m   08/09   2008  2009"
      ]
     },
     "execution_count": 92,
     "metadata": {},
     "output_type": "execute_result"
    }
   ],
   "source": [
    "df.head()"
   ]
  },
  {
   "cell_type": "code",
   "execution_count": 94,
   "metadata": {},
   "outputs": [],
   "source": [
    "df.to_csv(\"./values.csv\")"
   ]
  },
  {
   "cell_type": "code",
   "execution_count": null,
   "metadata": {},
   "outputs": [],
   "source": []
  },
  {
   "cell_type": "code",
   "execution_count": null,
   "metadata": {},
   "outputs": [],
   "source": []
  }
 ],
 "metadata": {
  "kernelspec": {
   "display_name": "Python 3",
   "language": "python",
   "name": "python3"
  },
  "language_info": {
   "codemirror_mode": {
    "name": "ipython",
    "version": 3
   },
   "file_extension": ".py",
   "mimetype": "text/x-python",
   "name": "python",
   "nbconvert_exporter": "python",
   "pygments_lexer": "ipython3",
   "version": "3.6.5"
  }
 },
 "nbformat": 4,
 "nbformat_minor": 2
}
